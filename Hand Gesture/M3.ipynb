{
 "cells": [
  {
   "cell_type": "markdown",
   "id": "bc546e87",
   "metadata": {},
   "source": [
    "# LENET"
   ]
  },
  {
   "cell_type": "code",
   "execution_count": 1,
   "id": "1b60eb79",
   "metadata": {},
   "outputs": [],
   "source": [
    "import os\n",
    "import glob\n",
    "from PIL import Image\n",
    "import matplotlib.pyplot as plt\n",
    "from tensorflow.keras.preprocessing.image import ImageDataGenerator\n",
    "from tensorflow.keras.models import Sequential\n",
    "from tensorflow.keras.layers import Convolution2D\n",
    "from tensorflow.keras.layers import MaxPooling2D\n",
    "from tensorflow.keras.layers import Flatten\n",
    "from tensorflow.keras.layers import Dense"
   ]
  },
  {
   "cell_type": "code",
   "execution_count": 2,
   "id": "139e0aca",
   "metadata": {},
   "outputs": [],
   "source": [
    "import warnings\n",
    "warnings.filterwarnings('ignore')"
   ]
  },
  {
   "cell_type": "code",
   "execution_count": 3,
   "id": "b196cf5a",
   "metadata": {},
   "outputs": [],
   "source": [
    "Classifier=Sequential()"
   ]
  },
  {
   "cell_type": "code",
   "execution_count": 4,
   "id": "915f5f4b",
   "metadata": {},
   "outputs": [
    {
     "name": "stdout",
     "output_type": "stream",
     "text": [
      "Model: \"sequential\"\n",
      "_________________________________________________________________\n",
      " Layer (type)                Output Shape              Param #   \n",
      "=================================================================\n",
      " conv2d (Conv2D)             (None, 74, 74, 32)        896       \n",
      "                                                                 \n",
      " max_pooling2d (MaxPooling2D  (None, 37, 37, 32)       0         \n",
      " )                                                               \n",
      "                                                                 \n",
      " conv2d_1 (Conv2D)           (None, 12, 12, 128)       36992     \n",
      "                                                                 \n",
      " max_pooling2d_1 (MaxPooling  (None, 6, 6, 128)        0         \n",
      " 2D)                                                             \n",
      "                                                                 \n",
      " flatten (Flatten)           (None, 4608)              0         \n",
      "                                                                 \n",
      " dense (Dense)               (None, 256)               1179904   \n",
      "                                                                 \n",
      " dense_1 (Dense)             (None, 7)                 1799      \n",
      "                                                                 \n",
      "=================================================================\n",
      "Total params: 1,219,591\n",
      "Trainable params: 1,219,591\n",
      "Non-trainable params: 0\n",
      "_________________________________________________________________\n"
     ]
    }
   ],
   "source": [
    "Classifier.add(Convolution2D(32,3,3,input_shape=(224,224,3),activation='relu'))\n",
    "Classifier.add(MaxPooling2D(pool_size=(2,2)))\n",
    "Classifier.add(Convolution2D(128,3,3,activation='relu'))\n",
    "Classifier.add(MaxPooling2D(pool_size=(2,2)))\n",
    "Classifier.add(Flatten())\n",
    "Classifier.add(Dense(256, activation='relu'))\n",
    "Classifier.add(Dense(7, activation='softmax'))\n",
    "\n",
    "Classifier.compile(optimizer='rmsprop',loss='categorical_crossentropy',metrics=['accuracy'])\n",
    "Classifier.summary()"
   ]
  },
  {
   "cell_type": "code",
   "execution_count": 5,
   "id": "b40f1dde",
   "metadata": {},
   "outputs": [],
   "source": [
    "from tensorflow.keras.preprocessing.image import ImageDataGenerator"
   ]
  },
  {
   "cell_type": "code",
   "execution_count": 6,
   "id": "e4d5a768",
   "metadata": {},
   "outputs": [],
   "source": [
    "train_datagen=ImageDataGenerator(rescale=1./255,shear_range=0.2,zoom_range=0.2,horizontal_flip=True)"
   ]
  },
  {
   "cell_type": "code",
   "execution_count": 7,
   "id": "ca0eb445",
   "metadata": {},
   "outputs": [],
   "source": [
    "test_datagen=ImageDataGenerator(rescale=1./255)"
   ]
  },
  {
   "cell_type": "code",
   "execution_count": 8,
   "id": "70387279",
   "metadata": {},
   "outputs": [
    {
     "name": "stdout",
     "output_type": "stream",
     "text": [
      "Found 13948 images belonging to 7 classes.\n"
     ]
    }
   ],
   "source": [
    "training_set=train_datagen.flow_from_directory('data/train',target_size=(224,224),batch_size=32,class_mode='categorical')"
   ]
  },
  {
   "cell_type": "code",
   "execution_count": 9,
   "id": "c78bc412",
   "metadata": {},
   "outputs": [
    {
     "name": "stdout",
     "output_type": "stream",
     "text": [
      "Found 1365 images belonging to 7 classes.\n"
     ]
    }
   ],
   "source": [
    "test_set=test_datagen.flow_from_directory('data/test',target_size=(224,224),batch_size=32,class_mode='categorical')"
   ]
  },
  {
   "cell_type": "code",
   "execution_count": 10,
   "id": "4e1bf094",
   "metadata": {},
   "outputs": [],
   "source": [
    "epochs = 20\n",
    "batch_size = 128"
   ]
  },
  {
   "cell_type": "code",
   "execution_count": 11,
   "id": "9c107ff3",
   "metadata": {},
   "outputs": [
    {
     "name": "stdout",
     "output_type": "stream",
     "text": [
      "Epoch 1/20\n",
      "108/108 [==============================] - 31s 280ms/step - loss: 0.6656 - accuracy: 0.7500 - val_loss: 0.2471 - val_accuracy: 0.9062\n",
      "Epoch 2/20\n",
      "108/108 [==============================] - 30s 275ms/step - loss: 0.0708 - accuracy: 0.9771 - val_loss: 0.1089 - val_accuracy: 0.9594\n",
      "Epoch 3/20\n",
      "108/108 [==============================] - 29s 273ms/step - loss: 0.0359 - accuracy: 0.9887 - val_loss: 0.0118 - val_accuracy: 1.0000\n",
      "Epoch 4/20\n",
      "108/108 [==============================] - 30s 273ms/step - loss: 0.0271 - accuracy: 0.9902 - val_loss: 0.0126 - val_accuracy: 0.9969\n",
      "Epoch 5/20\n",
      "108/108 [==============================] - 30s 276ms/step - loss: 0.0118 - accuracy: 0.9971 - val_loss: 0.0086 - val_accuracy: 1.0000\n",
      "Epoch 6/20\n",
      "108/108 [==============================] - 30s 274ms/step - loss: 0.0878 - accuracy: 0.9939 - val_loss: 0.0020 - val_accuracy: 1.0000\n",
      "Epoch 7/20\n",
      "108/108 [==============================] - 30s 276ms/step - loss: 0.0260 - accuracy: 0.9968 - val_loss: 3.7195e-05 - val_accuracy: 1.0000\n",
      "Epoch 8/20\n",
      "108/108 [==============================] - 31s 288ms/step - loss: 0.0240 - accuracy: 0.9971 - val_loss: 2.4489 - val_accuracy: 0.8188\n",
      "Epoch 9/20\n",
      "108/108 [==============================] - 31s 288ms/step - loss: 0.0190 - accuracy: 0.9954 - val_loss: 0.0226 - val_accuracy: 0.9906\n",
      "Epoch 10/20\n",
      "108/108 [==============================] - 30s 278ms/step - loss: 0.0082 - accuracy: 0.9971 - val_loss: 1.0142e-04 - val_accuracy: 1.0000\n",
      "Epoch 11/20\n",
      "108/108 [==============================] - 30s 273ms/step - loss: 0.0078 - accuracy: 0.9974 - val_loss: 2.9614e-04 - val_accuracy: 1.0000\n",
      "Epoch 12/20\n",
      "108/108 [==============================] - 30s 275ms/step - loss: 0.0024 - accuracy: 0.9994 - val_loss: 1.7918e-05 - val_accuracy: 1.0000\n",
      "Epoch 13/20\n",
      "108/108 [==============================] - 29s 264ms/step - loss: 0.0063 - accuracy: 0.9983 - val_loss: 2.7515e-04 - val_accuracy: 1.0000\n",
      "Epoch 14/20\n",
      "108/108 [==============================] - 28s 264ms/step - loss: 0.0046 - accuracy: 0.9988 - val_loss: 8.1681e-04 - val_accuracy: 1.0000\n",
      "Epoch 15/20\n",
      "108/108 [==============================] - 29s 271ms/step - loss: 0.0051 - accuracy: 0.9988 - val_loss: 5.4426e-07 - val_accuracy: 1.0000\n",
      "Epoch 16/20\n",
      "108/108 [==============================] - 29s 269ms/step - loss: 0.0066 - accuracy: 0.9988 - val_loss: 2.8747e-06 - val_accuracy: 1.0000\n",
      "Epoch 17/20\n",
      "108/108 [==============================] - 29s 271ms/step - loss: 0.0023 - accuracy: 0.9991 - val_loss: 1.8965e-04 - val_accuracy: 1.0000\n",
      "Epoch 18/20\n",
      "108/108 [==============================] - 31s 284ms/step - loss: 0.0063 - accuracy: 0.9983 - val_loss: 1.1548e-07 - val_accuracy: 1.0000\n",
      "Epoch 19/20\n",
      "108/108 [==============================] - 31s 283ms/step - loss: 0.0074 - accuracy: 0.9988 - val_loss: 5.0476e-05 - val_accuracy: 1.0000\n",
      "Epoch 20/20\n",
      "108/108 [==============================] - 32s 292ms/step - loss: 1.5797e-05 - accuracy: 1.0000 - val_loss: 3.2037e-08 - val_accuracy: 1.0000\n"
     ]
    },
    {
     "data": {
      "text/plain": [
       "<keras.callbacks.History at 0x21c5e7fb8e0>"
      ]
     },
     "execution_count": 11,
     "metadata": {},
     "output_type": "execute_result"
    }
   ],
   "source": [
    "Classifier.fit_generator( training_set, steps_per_epoch=training_set.samples // batch_size, \n",
    "           epochs=epochs, \n",
    "           validation_data=test_set,validation_steps=test_set.samples // batch_size)"
   ]
  },
  {
   "cell_type": "code",
   "execution_count": 12,
   "id": "95c5b3a7",
   "metadata": {},
   "outputs": [],
   "source": [
    "import matplotlib.pyplot as plt"
   ]
  },
  {
   "cell_type": "code",
   "execution_count": 18,
   "id": "b189a3e2",
   "metadata": {},
   "outputs": [],
   "source": [
    "def graph():\n",
    "    #Plot training & validation accuracy values\n",
    "    plt.plot(Classifier.history.history['accuracy'])\n",
    "    plt.plot(Classifier.history.history['val_accuracy'])\n",
    "    plt.title('Model accuracy')\n",
    "    plt.ylabel('Accuracy')\n",
    "    plt.xlabel('Epoch')\n",
    "    plt.legend(['Train', 'Test'], loc='upper left')\n",
    "    plt.show()\n",
    "\n",
    "    # Plot training & validation loss values\n",
    "    plt.plot(Classifier.history.history['loss'])\n",
    "    plt.plot(Classifier.history.history['val_loss'])\n",
    "    plt.title('Model loss')\n",
    "    plt.ylabel('Loss')\n",
    "    plt.xlabel('Epoch')\n",
    "    plt.legend(['Train', 'Test'], loc='upper left')\n",
    "    plt.show()"
   ]
  },
  {
   "cell_type": "code",
   "execution_count": 19,
   "id": "f59dc30a",
   "metadata": {},
   "outputs": [
    {
     "data": {
      "image/png": "[encoded data removed]",
      "text/plain": [
       "<Figure size 432x288 with 1 Axes>"
      ]
     },
     "metadata": {
      "needs_background": "light"
     },
     "output_type": "display_data"
    },
    {
     "data": {
      "image/png": "[encoded data removed]",
      "text/plain": [
       "<Figure size 432x288 with 1 Axes>"
      ]
     },
     "metadata": {
      "needs_background": "light"
     },
     "output_type": "display_data"
    }
   ],
   "source": [
    "graph()"
   ]
  },
  {
   "cell_type": "code",
   "execution_count": 14,
   "id": "24146066",
   "metadata": {},
   "outputs": [],
   "source": [
    "#import h5py\n",
    "#Classifier.save('model.h5')"
   ]
  },
  {
   "cell_type": "code",
   "execution_count": null,
   "id": "3d048c9a",
   "metadata": {},
   "outputs": [],
   "source": []
  }
 ],
 "metadata": {
  "kernelspec": {
   "display_name": "Python 3 (ipykernel)",
   "language": "python",
   "name": "python3"
  },
  "language_info": {
   "codemirror_mode": {
    "name": "ipython",
    "version": 3
   },
   "file_extension": ".py",
   "mimetype": "text/x-python",
   "name": "python",
   "nbconvert_exporter": "python",
   "pygments_lexer": "ipython3",
   "version": "3.9.12"
  }
 },
 "nbformat": 4,
 "nbformat_minor": 5
}
